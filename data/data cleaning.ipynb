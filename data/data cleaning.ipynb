{
 "cells": [
  {
   "cell_type": "code",
   "execution_count": 1,
   "metadata": {
    "collapsed": false
   },
   "outputs": [],
   "source": [
    "import pandas as pd\n",
    "import datetime as dt\n",
    "from namestand import downscore\n",
    "from geopy.geocoders import Nominatim\n",
    "geolocator = Nominatim()"
   ]
  },
  {
   "cell_type": "code",
   "execution_count": 2,
   "metadata": {
    "collapsed": false
   },
   "outputs": [],
   "source": [
    "def load_shootings(path):\n",
    "    df = pd.read_csv(path)\n",
    "    df.columns = downscore(df.columns)\n",
    "    df = df.rename(columns={\"killed\": \"dead\", \"wounded\": \"injured\" })\n",
    "    df[\"date\"] = pd.to_datetime(df[\"date\"])\n",
    "    return df"
   ]
  },
  {
   "cell_type": "code",
   "execution_count": 3,
   "metadata": {
    "collapsed": false
   },
   "outputs": [],
   "source": [
    "df = load_shootings('./data_2015.csv')[[\"date\", \"location\", \"dead\", \"injured\", \"article\"]]"
   ]
  },
  {
   "cell_type": "code",
   "execution_count": 4,
   "metadata": {
    "collapsed": false
   },
   "outputs": [
    {
     "data": {
      "text/html": [
       "<div>\n",
       "<table border=\"1\" class=\"dataframe\">\n",
       "  <thead>\n",
       "    <tr style=\"text-align: right;\">\n",
       "      <th></th>\n",
       "      <th>date</th>\n",
       "      <th>location</th>\n",
       "      <th>dead</th>\n",
       "      <th>injured</th>\n",
       "      <th>article</th>\n",
       "    </tr>\n",
       "  </thead>\n",
       "  <tbody>\n",
       "    <tr>\n",
       "      <th>346</th>\n",
       "      <td>2015-11-23</td>\n",
       "      <td>Houston, TX</td>\n",
       "      <td>1</td>\n",
       "      <td>3</td>\n",
       "      <td>http://www.khou.com/story/news/crime/2015/11/2...</td>\n",
       "    </tr>\n",
       "    <tr>\n",
       "      <th>347</th>\n",
       "      <td>2015-11-24</td>\n",
       "      <td>Conway, SC</td>\n",
       "      <td>0</td>\n",
       "      <td>4</td>\n",
       "      <td>http://www.live5news.com/story/30602372/4-hosp...</td>\n",
       "    </tr>\n",
       "    <tr>\n",
       "      <th>348</th>\n",
       "      <td>2015-11-26</td>\n",
       "      <td>Boston, MA</td>\n",
       "      <td>1</td>\n",
       "      <td>3</td>\n",
       "      <td>http://www.bostonglobe.com/metro/2015/11/26/on...</td>\n",
       "    </tr>\n",
       "    <tr>\n",
       "      <th>349</th>\n",
       "      <td>2015-11-27</td>\n",
       "      <td>Sacramento, CA</td>\n",
       "      <td>2</td>\n",
       "      <td>2</td>\n",
       "      <td>http://www.kcra.com/news/two-dead-two-injured-...</td>\n",
       "    </tr>\n",
       "    <tr>\n",
       "      <th>350</th>\n",
       "      <td>2015-11-27</td>\n",
       "      <td>Colorado Springs, CO</td>\n",
       "      <td>3</td>\n",
       "      <td>9</td>\n",
       "      <td>http://www.cnn.com/2015/11/28/us/colorado-plan...</td>\n",
       "    </tr>\n",
       "  </tbody>\n",
       "</table>\n",
       "</div>"
      ],
      "text/plain": [
       "          date              location  dead  injured  \\\n",
       "346 2015-11-23           Houston, TX     1        3   \n",
       "347 2015-11-24            Conway, SC     0        4   \n",
       "348 2015-11-26            Boston, MA     1        3   \n",
       "349 2015-11-27        Sacramento, CA     2        2   \n",
       "350 2015-11-27  Colorado Springs, CO     3        9   \n",
       "\n",
       "                                               article  \n",
       "346  http://www.khou.com/story/news/crime/2015/11/2...  \n",
       "347  http://www.live5news.com/story/30602372/4-hosp...  \n",
       "348  http://www.bostonglobe.com/metro/2015/11/26/on...  \n",
       "349  http://www.kcra.com/news/two-dead-two-injured-...  \n",
       "350  http://www.cnn.com/2015/11/28/us/colorado-plan...  "
      ]
     },
     "execution_count": 4,
     "metadata": {},
     "output_type": "execute_result"
    }
   ],
   "source": [
    "df.tail()"
   ]
  },
  {
   "cell_type": "code",
   "execution_count": 5,
   "metadata": {
    "collapsed": false
   },
   "outputs": [
    {
     "data": {
      "text/plain": [
       "224"
      ]
     },
     "execution_count": 5,
     "metadata": {},
     "output_type": "execute_result"
    }
   ],
   "source": [
    "locations = df['location'].unique()\n",
    "len(locations)"
   ]
  },
  {
   "cell_type": "code",
   "execution_count": 11,
   "metadata": {
    "collapsed": false
   },
   "outputs": [],
   "source": [
    "state_locations = {}\n",
    "for location in locations:\n",
    "    geo = geolocator.geocode(location)\n",
    "    if(geo):\n",
    "        state_locations[location] = {'long': geo.longitude, 'lat': geo.latitude}\n",
    "    else:\n",
    "        state_locations[location] = {}\n",
    "        "
   ]
  },
  {
   "cell_type": "code",
   "execution_count": null,
   "metadata": {
    "collapsed": false
   },
   "outputs": [],
   "source": [
    "state_locations"
   ]
  },
  {
   "cell_type": "code",
   "execution_count": null,
   "metadata": {
    "collapsed": true
   },
   "outputs": [],
   "source": [
    "df.reset_index().to_json('data.json', orient='records')"
   ]
  },
  {
   "cell_type": "code",
   "execution_count": null,
   "metadata": {
    "collapsed": true
   },
   "outputs": [],
   "source": [
    "import json\n",
    "with open('location.json', 'w') as fp:\n",
    "    json.dump(state_locations, fp)"
   ]
  }
 ],
 "metadata": {
  "kernelspec": {
   "display_name": "Python 3",
   "language": "python",
   "name": "python3"
  },
  "language_info": {
   "codemirror_mode": {
    "name": "ipython",
    "version": 3
   },
   "file_extension": ".py",
   "mimetype": "text/x-python",
   "name": "python",
   "nbconvert_exporter": "python",
   "pygments_lexer": "ipython3",
   "version": "3.5.1"
  }
 },
 "nbformat": 4,
 "nbformat_minor": 0
}

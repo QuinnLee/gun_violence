{
 "cells": [
  {
   "cell_type": "code",
   "execution_count": 21,
   "metadata": {
    "collapsed": false
   },
   "outputs": [],
   "source": [
    "import pandas as pd\n",
    "import datetime as dt\n",
    "from namestand import downscore\n",
    "from geopy.geocoders import Nominatim\n",
    "geolocator = Nominatim()"
   ]
  },
  {
   "cell_type": "code",
   "execution_count": 22,
   "metadata": {
    "collapsed": false
   },
   "outputs": [],
   "source": [
    "def load_shootings(path):\n",
    "    df = pd.read_csv(path)\n",
    "    df.columns = downscore(df.columns)\n",
    "    df = df.rename(columns={\"killed\": \"dead\", \"wounded\": \"injured\" })\n",
    "    df[\"date\"] = pd.to_datetime(df[\"date\"])\n",
    "    return df"
   ]
  },
  {
   "cell_type": "code",
   "execution_count": 23,
   "metadata": {
    "collapsed": false
   },
   "outputs": [],
   "source": [
    "df = load_shootings('./data_2015.csv')[[\"date\", \"location\", \"dead\", \"injured\", \"article\"]]"
   ]
  },
  {
   "cell_type": "code",
   "execution_count": 24,
   "metadata": {
    "collapsed": false
   },
   "outputs": [
    {
     "data": {
      "text/html": [
       "<div>\n",
       "<table border=\"1\" class=\"dataframe\">\n",
       "  <thead>\n",
       "    <tr style=\"text-align: right;\">\n",
       "      <th></th>\n",
       "      <th>date</th>\n",
       "      <th>location</th>\n",
       "      <th>dead</th>\n",
       "      <th>injured</th>\n",
       "      <th>article</th>\n",
       "    </tr>\n",
       "  </thead>\n",
       "  <tbody>\n",
       "    <tr>\n",
       "      <th>346</th>\n",
       "      <td>2015-11-23</td>\n",
       "      <td>Houston, TX</td>\n",
       "      <td>1</td>\n",
       "      <td>3</td>\n",
       "      <td>http://www.khou.com/story/news/crime/2015/11/2...</td>\n",
       "    </tr>\n",
       "    <tr>\n",
       "      <th>347</th>\n",
       "      <td>2015-11-24</td>\n",
       "      <td>Conway, SC</td>\n",
       "      <td>0</td>\n",
       "      <td>4</td>\n",
       "      <td>http://www.live5news.com/story/30602372/4-hosp...</td>\n",
       "    </tr>\n",
       "    <tr>\n",
       "      <th>348</th>\n",
       "      <td>2015-11-26</td>\n",
       "      <td>Boston, MA</td>\n",
       "      <td>1</td>\n",
       "      <td>3</td>\n",
       "      <td>http://www.bostonglobe.com/metro/2015/11/26/on...</td>\n",
       "    </tr>\n",
       "    <tr>\n",
       "      <th>349</th>\n",
       "      <td>2015-11-27</td>\n",
       "      <td>Sacramento, CA</td>\n",
       "      <td>2</td>\n",
       "      <td>2</td>\n",
       "      <td>http://www.kcra.com/news/two-dead-two-injured-...</td>\n",
       "    </tr>\n",
       "    <tr>\n",
       "      <th>350</th>\n",
       "      <td>2015-11-27</td>\n",
       "      <td>Colorado Springs, CO</td>\n",
       "      <td>3</td>\n",
       "      <td>9</td>\n",
       "      <td>http://www.cnn.com/2015/11/28/us/colorado-plan...</td>\n",
       "    </tr>\n",
       "  </tbody>\n",
       "</table>\n",
       "</div>"
      ],
      "text/plain": [
       "          date              location  dead  injured  \\\n",
       "346 2015-11-23           Houston, TX     1        3   \n",
       "347 2015-11-24            Conway, SC     0        4   \n",
       "348 2015-11-26            Boston, MA     1        3   \n",
       "349 2015-11-27        Sacramento, CA     2        2   \n",
       "350 2015-11-27  Colorado Springs, CO     3        9   \n",
       "\n",
       "                                               article  \n",
       "346  http://www.khou.com/story/news/crime/2015/11/2...  \n",
       "347  http://www.live5news.com/story/30602372/4-hosp...  \n",
       "348  http://www.bostonglobe.com/metro/2015/11/26/on...  \n",
       "349  http://www.kcra.com/news/two-dead-two-injured-...  \n",
       "350  http://www.cnn.com/2015/11/28/us/colorado-plan...  "
      ]
     },
     "execution_count": 24,
     "metadata": {},
     "output_type": "execute_result"
    }
   ],
   "source": [
    "df.tail()"
   ]
  },
  {
   "cell_type": "code",
   "execution_count": 28,
   "metadata": {
    "collapsed": false
   },
   "outputs": [
    {
     "data": {
      "text/plain": [
       "224"
      ]
     },
     "execution_count": 28,
     "metadata": {},
     "output_type": "execute_result"
    }
   ],
   "source": [
    "locations = df['location'].unique()\n",
    "len(locations)"
   ]
  },
  {
   "cell_type": "code",
   "execution_count": 31,
   "metadata": {
    "collapsed": true
   },
   "outputs": [],
   "source": [
    "state_locations = {}\n",
    "for location in locations:\n",
    "    geo = geolocator.geocode(location)\n",
    "    if(geo):\n",
    "        state_locations[location] = {'long': geo.longitude, 'lat': geo.latitude}\n",
    "    else:\n",
    "        state_locations[location] = {}\n",
    "        "
   ]
  },
  {
   "cell_type": "code",
   "execution_count": 32,
   "metadata": {
    "collapsed": false
   },
   "outputs": [
    {
     "data": {
      "text/plain": [
       "{'Albion, MI': {'lat': 42.243097, 'long': -84.7530303},\n",
       " 'Albuquerque, NM': {'lat': 35.0841034, 'long': -106.650985},\n",
       " 'Amarillo, TX': {'lat': 35.2072185, 'long': -101.8338245},\n",
       " 'Anchorage, AK': {'lat': 61.2163129, 'long': -149.8948522},\n",
       " 'Anderson County, TX': {'lat': 31.7819242, 'long': -95.6258198},\n",
       " 'Anniston, AL': {'lat': 33.695381, 'long': -85.8398421788233},\n",
       " 'Arlington, VA': {'lat': 38.8903961, 'long': -77.0841584},\n",
       " 'Aroostook County, ME': {'lat': 46.6847962, 'long': -68.4701131},\n",
       " 'Atlanta, GA': {'lat': 33.7490987, 'long': -84.3901848},\n",
       " 'Aurora, IL': {'lat': 41.7605849, 'long': -88.3200714},\n",
       " 'Baker, LA': {'lat': 30.3143459, 'long': -82.2847162},\n",
       " 'Bakersfield, CA': {'lat': 35.3738712, 'long': -119.0194638},\n",
       " 'Baltimore, MD': {'lat': 39.2908608, 'long': -76.6108072},\n",
       " 'Bamberg, SC': {'lat': 33.2130154, 'long': -81.0166234},\n",
       " 'Banning, CA': {'lat': 33.9255685, 'long': -116.8752889},\n",
       " 'Barre, VT': {'lat': 44.1970055, 'long': -72.5020493},\n",
       " 'Baton Rouge, LA': {'lat': 30.4507462, 'long': -91.1545509},\n",
       " 'Bennettsville, SC': {'lat': 34.6173803, 'long': -79.6847813},\n",
       " 'Blytheville, AR': {'lat': 35.9272953, 'long': -89.9189753},\n",
       " 'Boston, MA': {'lat': 42.3604823, 'long': -71.0595677},\n",
       " 'Breaux Bridge, LA': {'lat': 30.2735323, 'long': -91.8992836},\n",
       " 'Bridgeport, CT': {'lat': 41.1670412, 'long': -73.2048347},\n",
       " 'Bristol, TN': {'lat': 36.5951059, 'long': -82.1887443},\n",
       " 'Brockton, MA': {'lat': 42.0834335, 'long': -71.0183786},\n",
       " 'Bronx, NY': {'lat': 40.8527855, 'long': -73.8390537935388},\n",
       " 'Brookhaven, MS': {'lat': 31.58369, 'long': -90.4418086715699},\n",
       " 'Brooklyn Center, MN': {'lat': 45.0748543, 'long': -93.3296295},\n",
       " 'Brooklyn, NY': {'lat': 40.6501038, 'long': -73.9495822},\n",
       " 'Brownsville, TX': {'lat': 25.9140256, 'long': -97.4890855},\n",
       " 'Buffalo, NY': {'lat': 42.8971799, 'long': -78.8533217725477},\n",
       " 'Calumet City, IL': {'lat': 41.6155909, 'long': -87.529487},\n",
       " 'Camden, NJ': {'lat': 39.9448402, 'long': -75.119891},\n",
       " 'Capitol Heights, MD': {'lat': 38.8853963, 'long': -76.915944},\n",
       " 'Charleston, SC': {'lat': 32.7876012, 'long': -79.9402727},\n",
       " 'Charlotte, NC': {'lat': 35.2270869, 'long': -80.8431267},\n",
       " 'Chattanooga, TN': {'lat': 35.0456297, 'long': -85.30968},\n",
       " 'Chester, PA': {'lat': 39.849557, 'long': -75.3557457},\n",
       " 'Chicago, IL': {'lat': 41.8755546, 'long': -87.6244211},\n",
       " 'Chicago, Il': {'lat': 41.8755546, 'long': -87.6244211},\n",
       " 'Cincinnati, OH': {'lat': 39.1014537, 'long': -84.5124601},\n",
       " 'Clarksville, TN': {'lat': 36.5285918, 'long': -87.3098695},\n",
       " 'Cleaveland, OH': {'lat': 41.4484352, 'long': -81.5802302192634},\n",
       " 'Cleveland, OH': {'lat': 41.5051613, 'long': -81.6934445},\n",
       " 'Colorado Springs, CO': {'lat': 38.8339578, 'long': -104.8253484},\n",
       " 'Columbia, MO': {'lat': 38.951883, 'long': -92.3337365},\n",
       " 'Columbia, SC': {'lat': 34.0007493, 'long': -81.0343312},\n",
       " 'Columbus, GA': {'lat': 32.4609764, 'long': -84.9877093},\n",
       " 'Columbus, MO': {'lat': 41.4296258, 'long': -97.3684293},\n",
       " 'Columbus, MS': {'lat': 33.4956744, 'long': -88.4272626},\n",
       " 'Columbus, OH': {'lat': 39.9622601, 'long': -83.0007064},\n",
       " 'Compton, CA': {'lat': 33.8948824, 'long': -118.2260433},\n",
       " 'Conway, SC': {'lat': 33.8360035, 'long': -79.0478142},\n",
       " 'Conyers, GA': {'lat': 33.6676103, 'long': -84.0176903},\n",
       " 'Crockett County, TN': {'lat': 35.83532145, 'long': -89.1896741220558},\n",
       " 'Dallas, TX': {'lat': 32.7762719, 'long': -96.7968558},\n",
       " 'Danville, IL': {'lat': 40.125222, 'long': -87.6304613},\n",
       " 'Davenport, IA': {'lat': 41.5236436, 'long': -90.5776367},\n",
       " 'Dayton, OH': {'lat': 39.7589478, 'long': -84.1916068},\n",
       " 'Daytona Beach, FL': {'lat': 29.2108147, 'long': -81.022833},\n",
       " 'DeKalb County, GA': {'lat': 33.7575613, 'long': -84.2186507},\n",
       " 'DeKalb, GA': {'lat': 33.7575613, 'long': -84.2186507},\n",
       " 'Decatur, IL': {'lat': 39.8454163, 'long': -88.952415},\n",
       " 'Deer Lodge, MT': {'lat': 46.0753795, 'long': -113.0893319},\n",
       " 'Denver, CO': {'lat': 39.7391536, 'long': -104.9847033},\n",
       " 'Des Moines, IA': {'lat': 41.5910641, 'long': -93.6037148},\n",
       " 'Detroit, MI': {'lat': 42.3486635, 'long': -83.0567374},\n",
       " 'Douglasville, GA': {'lat': 33.7514966, 'long': -84.7477135},\n",
       " 'Durham, NC': {'lat': 35.9940329, 'long': -78.8986189},\n",
       " 'East Orange, NJ': {'lat': 40.767323, 'long': -74.2048676},\n",
       " 'Elkhart, IN': {'lat': 41.6819935, 'long': -85.976667},\n",
       " 'Erie, PA': {'lat': 42.1290657, 'long': -80.085242},\n",
       " 'Evansville, IN': {'lat': 37.9747645, 'long': -87.5558482},\n",
       " 'Fayette County, GA': {'lat': 33.3899269, 'long': -84.4953762},\n",
       " 'Flagstaff, AZ': {'lat': 35.199458, 'long': -111.6514258},\n",
       " 'Flint, MI': {'lat': 43.0171773, 'long': -83.7236023},\n",
       " 'Forest, MS': {'lat': 32.349231, 'long': -89.4715190656048},\n",
       " 'Forsyth County, GA': {'lat': 34.235309, 'long': -84.1335643},\n",
       " 'Fort Meyers, FL': {'lat': 26.775362, 'long': -81.8472769},\n",
       " 'Fort Wayne, IN': {'lat': 41.0799898, 'long': -85.1386014},\n",
       " 'Fort Worth, TX': {'lat': 32.753177, 'long': -97.3327458},\n",
       " 'Four Oaks, NC': {'lat': 35.4448836, 'long': -78.4269488},\n",
       " 'Fresno, CA': {'lat': 36.7394421, 'long': -119.7848306},\n",
       " 'Gastonia, NC': {'lat': 35.262082, 'long': -81.1873004},\n",
       " 'Gates, NY': {'lat': 43.0914641, 'long': -73.6381726},\n",
       " 'Gila Bend, AZ': {'lat': 32.9478267, 'long': -112.7168238},\n",
       " 'Greenacres, FL': {'lat': 26.6293963, 'long': -80.1365516115106},\n",
       " 'Greenville, GA': {'lat': 33.0287373, 'long': -84.7129847},\n",
       " 'Habersham County, GA': {'lat': 34.629549, 'long': -83.515566735624},\n",
       " 'Harrington, DE': {'lat': 38.9237244, 'long': -75.5777032},\n",
       " 'Harris County, TX': {'lat': 29.8119769, 'long': -95.3741246},\n",
       " 'Hartford, CT': {'lat': 41.7634935, 'long': -72.6830522},\n",
       " 'Holly Hill, SC': {'lat': 33.4973905, 'long': -79.1494879},\n",
       " 'Hope Mills, NC': {'lat': 34.9704419, 'long': -78.9453055},\n",
       " 'Hopewell, VA': {'lat': 36.7468036, 'long': -79.4639157},\n",
       " 'Houma, LA': {'lat': 29.5957696, 'long': -90.7195347},\n",
       " 'Houston County, AL': {'lat': 31.1355603, 'long': -85.2654591},\n",
       " 'Houston, TX': {'lat': 29.7589382, 'long': -95.3676973},\n",
       " 'Indianapolis, IN': {'lat': 39.7683331, 'long': -86.1583501},\n",
       " 'Inglis, FL': {'lat': 29.0302514, 'long': -82.668716},\n",
       " 'Jacksonville, FL': {'lat': 30.3321838, 'long': -81.6556509},\n",
       " 'Jersey City, NJ': {'lat': 40.7281575, 'long': -74.0776416},\n",
       " 'Johnstown, PA': {'lat': 40.3267407, 'long': -78.9219697},\n",
       " 'Joliet, IL': {'lat': 41.525031, 'long': -88.0817251},\n",
       " 'Kansas City, MO': {'lat': 39.0844687, 'long': -94.5630297},\n",
       " 'Killeen, TX': {'lat': 31.1171441, 'long': -97.7277959},\n",
       " 'King, NC': {'lat': 36.280694, 'long': -80.3592196},\n",
       " 'Kinloch, MO': {'lat': 38.7406065, 'long': -90.3253921},\n",
       " 'Lafayette, LA': {'lat': 30.2240897, 'long': -92.0198426},\n",
       " 'Lakeland, FL': {'lat': 28.0394654, 'long': -81.9498041},\n",
       " 'Lancaster, TX': {'lat': 32.5920798, 'long': -96.7561082},\n",
       " 'Las Vegas, NV': {'lat': 36.1662859, 'long': -115.1492249},\n",
       " 'Lehigh Acres, FL': {'lat': 26.6253497, 'long': -81.6248025},\n",
       " 'Lexington, KY': {'lat': 38.0464066, 'long': -84.4970392},\n",
       " 'Lillington, NC': {'lat': 35.399121, 'long': -78.8156},\n",
       " 'Little Rock, AR': {'lat': 34.7464809, 'long': -92.2895947},\n",
       " 'Long Beach, CA': {'lat': 33.7774658, 'long': -118.188487},\n",
       " 'Long Branch, NJ': {'lat': 40.3042778, 'long': -73.9923595},\n",
       " 'Los Angeles, CA': {'lat': 34.0543942, 'long': -118.2439408},\n",
       " 'Los Chavez, NM': {'lat': 34.726724, 'long': -106.753638},\n",
       " 'Louisville, KY': {'lat': 38.2542376, 'long': -85.7594069},\n",
       " 'Lumberton, NC': {'lat': 34.6183433, 'long': -79.0083992},\n",
       " 'Macon, GA': {'lat': 32.8406946, 'long': -83.6324021},\n",
       " 'Manhattan, NY': {'lat': 40.7902778, 'long': -73.9597221},\n",
       " 'Manson, WA': {'lat': 42.5291439, 'long': -94.534142},\n",
       " 'Memphis, TN': {'lat': 35.1490215, 'long': -90.0516284},\n",
       " 'Menasha, WI': {'lat': 44.2022293, 'long': -88.446536},\n",
       " 'Mesa, AZ': {'lat': 33.4153143, 'long': -111.831264},\n",
       " 'Miami Gardens, FL': {'lat': 25.94207545, 'long': -80.2397527099553},\n",
       " 'Miami, FL': {'lat': 25.7742658, 'long': -80.1936588},\n",
       " 'Milledgeville, GA': {'lat': 33.0801429, 'long': -83.232099},\n",
       " 'Milwaukee, WI': {'lat': 43.0349931, 'long': -87.9224969},\n",
       " 'Minneapolis, MN': {'lat': 44.9772995, 'long': -93.2654691},\n",
       " 'Modesto, CA': {'lat': 37.6390972, 'long': -120.9968781},\n",
       " 'Moneta, VA': {'lat': 37.1812537, 'long': -79.6172535},\n",
       " 'Montgomery, AL': {'lat': 32.3669656, 'long': -86.3006484},\n",
       " 'Moscow, ID': {'lat': 46.7323875, 'long': -117.000165},\n",
       " 'Murray, KY': {'lat': 36.6103334, 'long': -88.3147609},\n",
       " 'Muskegon Heights, MI': {'lat': 43.2011264, 'long': -86.2389463},\n",
       " 'Nashville, TN': {'lat': 36.1622296, 'long': -86.774353},\n",
       " 'Navajo Nation, AZ': {'lat': 36.2022216, 'long': -109.6888819},\n",
       " 'New Haven, CT': {'lat': 41.3082138, 'long': -72.9250517},\n",
       " 'New Orleans, LA': {'lat': 29.9499323, 'long': -90.0701155},\n",
       " 'New Port Richey, FL': {'lat': 28.247132, 'long': -82.7170237901345},\n",
       " 'Newark, NJ': {'lat': 40.735657, 'long': -74.1723666},\n",
       " 'Newburgh, NY': {'lat': 41.5034271, 'long': -74.0104178},\n",
       " 'Norcross, GA': {'lat': 33.9412127, 'long': -84.2135308},\n",
       " 'North Amityville, NY': {'lat': 40.6976002, 'long': -73.4251229},\n",
       " 'North Rome, GA': {'lat': 34.2634267, 'long': -85.1582833},\n",
       " 'Oakland, ME': {'lat': 44.5403436, 'long': -69.7219915},\n",
       " 'Ocala, FL': {'lat': 29.1871986, 'long': -82.1400922},\n",
       " 'Oklahoma City, OK': {'lat': 35.4729886, 'long': -97.5170535},\n",
       " 'Omaha, NE': {'lat': 41.2587317, 'long': -95.9378731},\n",
       " 'Opa-locka, FL': {'lat': 25.89673385, 'long': -80.2594963085029},\n",
       " 'Orangeburg, SC': {'lat': 33.4918203, 'long': -80.8556475},\n",
       " 'Orlando, FL': {'lat': 28.5421175, 'long': -81.3790461},\n",
       " 'Pageland, SC': {'lat': 34.7728831, 'long': -80.3921892},\n",
       " 'Panama City Beach, FL': {'lat': 30.1765914, 'long': -85.8054878},\n",
       " 'Paterson, NJ': {'lat': 40.9167654, 'long': -74.1718109},\n",
       " 'Pendleton, SC': {'lat': 34.6508092, 'long': -82.7820662},\n",
       " 'Peoria, IL': {'lat': 40.6938609, 'long': -89.5891007},\n",
       " 'Pheonix, AZ': {'lat': 33.4132913, 'long': -112.009036256419},\n",
       " 'Philadelphia, PA': {'lat': 39.9523993, 'long': -75.1635898},\n",
       " 'Phoenix, AZ': {'lat': 33.4485866, 'long': -112.0773455},\n",
       " 'Pine Hills, FL': {'lat': 28.5825505, 'long': -81.4618321984826},\n",
       " 'Pittsburgh, PA': {'lat': 40.4416941, 'long': -79.990086},\n",
       " 'Pittsfield, MA': {'lat': 42.4500967, 'long': -73.2453784},\n",
       " 'Platte, SD': {'lat': 43.3869397, 'long': -98.8445302},\n",
       " 'Portsmouth, VA': {'lat': 36.8354258, 'long': -76.2982741},\n",
       " 'Queens, NY': {'lat': 40.6524927, 'long': -73.7914213158161},\n",
       " 'Richmond, VA': {'lat': 37.5385087, 'long': -77.4342799},\n",
       " 'River Forest, IL': {'lat': 41.8978091, 'long': -87.8139482},\n",
       " 'Roanoke, VA': {'lat': 37.270973, 'long': -79.9414312},\n",
       " 'Rochester, NY': {'lat': 43.1572851, 'long': -77.615214},\n",
       " 'Rock Hill, SC': {'lat': 34.9248667, 'long': -81.0250783},\n",
       " 'Rockford, IL': {'lat': 42.2713945, 'long': -89.0939659},\n",
       " 'Roseburg, OR': {'lat': 43.216505, 'long': -123.341738},\n",
       " 'Roswell, NM': {'lat': 33.3943282, 'long': -104.5229517},\n",
       " 'Round Mountain, AL': {'lat': 33.3656691, 'long': -87.2669434},\n",
       " 'Roy, UT': {'lat': 41.1617999, 'long': -112.0261902},\n",
       " 'Sacramento, CA': {'lat': 38.5815719, 'long': -121.4943995},\n",
       " 'Salem, OR': {'lat': 44.9391565, 'long': -123.0331209},\n",
       " 'Salinas, CA': {'lat': 36.6777078, 'long': -121.6560113},\n",
       " 'San Antonio, TX': {'lat': 29.4246002, 'long': -98.4951404},\n",
       " 'San Bernadino, CA': {'lat': 14.5433708, 'long': -91.4527333},\n",
       " 'San Diego, CA': {'lat': 32.7174209, 'long': -117.1627713},\n",
       " 'San Francisco, CA': {'lat': 37.7792808, 'long': -122.4192362},\n",
       " 'San Jose, CA': {'lat': 37.3361905, 'long': -121.8905832},\n",
       " 'Sand City, CA': {'lat': 36.6171819, 'long': -121.8482854},\n",
       " 'Santa Ana, CA': {'lat': 33.7494951, 'long': -117.8732212},\n",
       " 'Savannah, GA': {'lat': 32.0835407, 'long': -81.0998341},\n",
       " 'Seattle, WA': {'lat': 47.6038321, 'long': -122.3300623},\n",
       " 'Shreveport, LA': {'lat': 32.4828485, 'long': -93.8284831615932},\n",
       " 'Smith County, TX': {'lat': 32.3402898, 'long': -95.256397},\n",
       " 'South Bend, IN': {'lat': 41.6833813, 'long': -86.2500065},\n",
       " 'Springdale, MD': {'lat': 38.9376113, 'long': -76.8388602},\n",
       " 'St. Louis, MO': {'lat': 38.6272733, 'long': -90.1978888},\n",
       " 'Starr County, TX': {'lat': 26.5630409, 'long': -98.7479896},\n",
       " 'Stockton, CA': {'lat': 37.9577016, 'long': -121.2907795},\n",
       " 'Suffolk, VA': {'lat': 36.7282096, 'long': -76.5835702},\n",
       " 'Syracuse, NY': {'lat': 43.0481221, 'long': -76.1474243},\n",
       " 'Tallahassee, FL': {'lat': 30.4380832, 'long': -84.2809331},\n",
       " 'Tangelo Park, FL': {'lat': 28.45638635, 'long': -81.4462231882139},\n",
       " 'Tarboro, NC': {'lat': 35.8968236, 'long': -77.5358048},\n",
       " 'Taunton, MA': {'lat': 41.900101, 'long': -71.0897674},\n",
       " 'Trenton, NJ': {'lat': 40.2170575, 'long': -74.7429462},\n",
       " 'Troup County, GA': {'lat': 33.0237625, 'long': -85.0254021},\n",
       " 'Tucson, AZ': {'lat': 32.2217422, 'long': -110.9264758},\n",
       " 'Tulsa, OK': {'lat': 36.1556805, 'long': -95.9929112},\n",
       " 'Tuskegee, AL': {'lat': 32.4240286, 'long': -85.6916194},\n",
       " 'Tyrone, MO': {'lat': 37.2033832, 'long': -91.8765398},\n",
       " 'Venice, IL': {'lat': 45.4371908, 'long': 12.3345899},\n",
       " 'Waco, TX': {'lat': 31.549333, 'long': -97.1466694},\n",
       " 'Warren, MI': {'lat': 42.4775364, 'long': -83.0277},\n",
       " 'Warrensville Heights, OH': {'lat': 41.4353504, 'long': -81.5148236},\n",
       " 'Washington, D.C.': {'lat': 36.29885175, 'long': -82.3591932141095},\n",
       " 'Washington, DC': {'lat': 38.8949549, 'long': -77.0366455},\n",
       " 'West Frankfort, IL': {'lat': 37.8978275, 'long': -88.9314582},\n",
       " 'West Palm Beach, FL': {'lat': 26.7153425, 'long': -80.0533745},\n",
       " 'Wichita, KS': {'lat': 37.6922361, 'long': -97.3375447},\n",
       " 'Williamsport, PA': {'lat': 41.2493292, 'long': -77.002767},\n",
       " 'Woonsocket, RI': {'lat': 42.0028761, 'long': -71.5147838},\n",
       " 'Wyandanch, NY': {'lat': 40.7539878, 'long': -73.3603979},\n",
       " 'Ybor City, FL': {'lat': 27.9600475, 'long': -82.4411595},\n",
       " 'Youngstown, OH': {'lat': 41.0997803, 'long': -80.6495193}}"
      ]
     },
     "execution_count": 32,
     "metadata": {},
     "output_type": "execute_result"
    }
   ],
   "source": [
    "state_locations"
   ]
  },
  {
   "cell_type": "code",
   "execution_count": 33,
   "metadata": {
    "collapsed": true
   },
   "outputs": [],
   "source": [
    "df.reset_index().to_json('data.json', orient='records')"
   ]
  },
  {
   "cell_type": "code",
   "execution_count": 34,
   "metadata": {
    "collapsed": true
   },
   "outputs": [],
   "source": [
    "import json\n",
    "with open('locatio.json', 'w') as fp:\n",
    "    json.dump(state_locations, fp)"
   ]
  },
  {
   "cell_type": "code",
   "execution_count": null,
   "metadata": {
    "collapsed": true
   },
   "outputs": [],
   "source": []
  }
 ],
 "metadata": {
  "kernelspec": {
   "display_name": "Python 3",
   "language": "python",
   "name": "python3"
  },
  "language_info": {
   "codemirror_mode": {
    "name": "ipython",
    "version": 3
   },
   "file_extension": ".py",
   "mimetype": "text/x-python",
   "name": "python",
   "nbconvert_exporter": "python",
   "pygments_lexer": "ipython3",
   "version": "3.5.1"
  }
 },
 "nbformat": 4,
 "nbformat_minor": 0
}

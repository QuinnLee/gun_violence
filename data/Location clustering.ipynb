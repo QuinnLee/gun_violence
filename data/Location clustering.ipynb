{
 "cells": [
  {
   "cell_type": "code",
   "execution_count": 3,
   "metadata": {
    "collapsed": false,
    "scrolled": true
   },
   "outputs": [
    {
     "data": {
      "text/plain": [
       "'\\nThanks stack overflow! lawl\\n'"
      ]
     },
     "execution_count": 3,
     "metadata": {},
     "output_type": "execute_result"
    }
   ],
   "source": [
    "from math import radians, cos, sin, asin, sqrt\n",
    "import numpy as np\n",
    "\n",
    "from scipy.spatial.distance import pdist, squareform\n",
    "from sklearn.cluster import DBSCAN\n",
    "\n",
    "import matplotlib.pyplot as plt\n",
    "import pandas as pd\n",
    "\"\"\"\n",
    "Thanks stack overflow! lawl\n",
    "\"\"\""
   ]
  },
  {
   "cell_type": "code",
   "execution_count": 4,
   "metadata": {
    "collapsed": true
   },
   "outputs": [],
   "source": [
    "def haversine(lonlat1, lonlat2):\n",
    "    \"\"\"\n",
    "    Calculate the great circle distance between two points \n",
    "    on the earth (specified in decimal degrees)\n",
    "    \"\"\"\n",
    "    # convert decimal degrees to radians \n",
    "    lat1, lon1 = lonlat1\n",
    "    lat2, lon2 = lonlat2\n",
    "    lon1, lat1, lon2, lat2 = map(radians, [lon1, lat1, lon2, lat2])\n",
    "\n",
    "    # haversine formula \n",
    "    dlon = lon2 - lon1 \n",
    "    dlat = lat2 - lat1 \n",
    "    a = sin(dlat/2)**2 + cos(lat1) * cos(lat2) * sin(dlon/2)**2\n",
    "    c = 2 * asin(sqrt(a)) \n",
    "    r = 6371 # Radius of earth in kilometers. Use 3956 for miles\n",
    "    return c * r"
   ]
  },
  {
   "cell_type": "code",
   "execution_count": 5,
   "metadata": {
    "collapsed": false,
    "scrolled": true
   },
   "outputs": [
    {
     "data": {
      "text/html": [
       "<div>\n",
       "<table border=\"1\" class=\"dataframe\">\n",
       "  <thead>\n",
       "    <tr style=\"text-align: right;\">\n",
       "      <th></th>\n",
       "      <th>lat</th>\n",
       "      <th>long</th>\n",
       "    </tr>\n",
       "  </thead>\n",
       "  <tbody>\n",
       "    <tr>\n",
       "      <th>Williamsport, PA</th>\n",
       "      <td>41.249329</td>\n",
       "      <td>-77.002767</td>\n",
       "    </tr>\n",
       "    <tr>\n",
       "      <th>Woonsocket, RI</th>\n",
       "      <td>42.002876</td>\n",
       "      <td>-71.514784</td>\n",
       "    </tr>\n",
       "    <tr>\n",
       "      <th>Wyandanch, NY</th>\n",
       "      <td>40.753988</td>\n",
       "      <td>-73.360398</td>\n",
       "    </tr>\n",
       "    <tr>\n",
       "      <th>Ybor City, FL</th>\n",
       "      <td>27.960048</td>\n",
       "      <td>-82.441159</td>\n",
       "    </tr>\n",
       "    <tr>\n",
       "      <th>Youngstown, OH</th>\n",
       "      <td>41.099780</td>\n",
       "      <td>-80.649519</td>\n",
       "    </tr>\n",
       "  </tbody>\n",
       "</table>\n",
       "</div>"
      ],
      "text/plain": [
       "                        lat       long\n",
       "Williamsport, PA  41.249329 -77.002767\n",
       "Woonsocket, RI    42.002876 -71.514784\n",
       "Wyandanch, NY     40.753988 -73.360398\n",
       "Ybor City, FL     27.960048 -82.441159\n",
       "Youngstown, OH    41.099780 -80.649519"
      ]
     },
     "execution_count": 5,
     "metadata": {},
     "output_type": "execute_result"
    }
   ],
   "source": [
    "df = pd.read_json('./location.json')\n",
    "df = df.transpose()\n",
    "df.tail()"
   ]
  },
  {
   "cell_type": "code",
   "execution_count": 6,
   "metadata": {
    "collapsed": false
   },
   "outputs": [],
   "source": [
    "distance_matrix = squareform(pdist(df, (lambda u,v: haversine(u,v))))"
   ]
  },
  {
   "cell_type": "code",
   "execution_count": 7,
   "metadata": {
    "collapsed": false
   },
   "outputs": [
    {
     "data": {
      "text/plain": [
       "array([[    0.        ,  2053.6453667 ,  1671.27879361, ...,\n",
       "          962.37512952,  1601.88889549,   363.72446588],\n",
       "       [ 2053.6453667 ,     0.        ,   438.16217178, ...,\n",
       "         2968.74061109,  2420.1960345 ,  2361.66443128],\n",
       "       [ 1671.27879361,   438.16217178,     0.        , ...,\n",
       "         2558.40015348,  2001.31943123,  1958.77846337],\n",
       "       ..., \n",
       "       [  962.37512952,  2968.74061109,  2558.40015348, ...,\n",
       "            0.        ,  1646.59521151,   613.40612191],\n",
       "       [ 1601.88889549,  2420.1960345 ,  2001.31943123, ...,\n",
       "         1646.59521151,     0.        ,  1470.16321697],\n",
       "       [  363.72446588,  2361.66443128,  1958.77846337, ...,\n",
       "          613.40612191,  1470.16321697,     0.        ]])"
      ]
     },
     "execution_count": 7,
     "metadata": {},
     "output_type": "execute_result"
    }
   ],
   "source": [
    "distance_matrix"
   ]
  },
  {
   "cell_type": "code",
   "execution_count": 10,
   "metadata": {
    "collapsed": false,
    "scrolled": true
   },
   "outputs": [],
   "source": [
    "db = DBSCAN(eps=50, min_samples=1, metric='precomputed')"
   ]
  },
  {
   "cell_type": "code",
   "execution_count": 11,
   "metadata": {
    "collapsed": false
   },
   "outputs": [
    {
     "data": {
      "text/plain": [
       "150"
      ]
     },
     "execution_count": 11,
     "metadata": {},
     "output_type": "execute_result"
    }
   ],
   "source": [
    "y_db = db.fit_predict(distance_matrix)\n",
    "len(np.unique(y_db))\n"
   ]
  },
  {
   "cell_type": "code",
   "execution_count": null,
   "metadata": {
    "collapsed": false
   },
   "outputs": [],
   "source": [
    "df['cluster'] = y_db\n",
    "plt.scatter(df['long'], df['lat'], c=df['cluster'])\n",
    "plt.show()"
   ]
  },
  {
   "cell_type": "code",
   "execution_count": 42,
   "metadata": {
    "collapsed": false
   },
   "outputs": [
    {
     "data": {
      "text/html": [
       "<div>\n",
       "<table border=\"1\" class=\"dataframe\">\n",
       "  <thead>\n",
       "    <tr style=\"text-align: right;\">\n",
       "      <th></th>\n",
       "      <th>Albion, MI</th>\n",
       "      <th>Albuquerque, NM</th>\n",
       "      <th>Amarillo, TX</th>\n",
       "      <th>Anchorage, AK</th>\n",
       "      <th>Anderson County, TX</th>\n",
       "      <th>Anniston, AL</th>\n",
       "      <th>Arlington, VA</th>\n",
       "      <th>Aroostook County, ME</th>\n",
       "      <th>Atlanta, GA</th>\n",
       "      <th>Aurora, IL</th>\n",
       "      <th>...</th>\n",
       "      <th>Warrensville Heights, OH</th>\n",
       "      <th>Washington, D.C.</th>\n",
       "      <th>West Frankfort, IL</th>\n",
       "      <th>West Palm Beach, FL</th>\n",
       "      <th>Wichita, KS</th>\n",
       "      <th>Williamsport, PA</th>\n",
       "      <th>Woonsocket, RI</th>\n",
       "      <th>Wyandanch, NY</th>\n",
       "      <th>Ybor City, FL</th>\n",
       "      <th>Youngstown, OH</th>\n",
       "    </tr>\n",
       "  </thead>\n",
       "  <tbody>\n",
       "    <tr>\n",
       "      <th>lat</th>\n",
       "      <td>42.243097</td>\n",
       "      <td>35.084103</td>\n",
       "      <td>35.207219</td>\n",
       "      <td>61.216313</td>\n",
       "      <td>31.781924</td>\n",
       "      <td>33.695381</td>\n",
       "      <td>38.890396</td>\n",
       "      <td>46.684796</td>\n",
       "      <td>33.749099</td>\n",
       "      <td>41.760585</td>\n",
       "      <td>...</td>\n",
       "      <td>41.435350</td>\n",
       "      <td>36.298852</td>\n",
       "      <td>37.897827</td>\n",
       "      <td>26.715342</td>\n",
       "      <td>37.692236</td>\n",
       "      <td>41.249329</td>\n",
       "      <td>42.002876</td>\n",
       "      <td>40.753988</td>\n",
       "      <td>27.960048</td>\n",
       "      <td>41.099780</td>\n",
       "    </tr>\n",
       "    <tr>\n",
       "      <th>long</th>\n",
       "      <td>-84.753030</td>\n",
       "      <td>-106.650985</td>\n",
       "      <td>-101.833825</td>\n",
       "      <td>-149.894852</td>\n",
       "      <td>-95.625820</td>\n",
       "      <td>-85.839842</td>\n",
       "      <td>-77.084158</td>\n",
       "      <td>-68.470113</td>\n",
       "      <td>-84.390185</td>\n",
       "      <td>-88.320071</td>\n",
       "      <td>...</td>\n",
       "      <td>-81.514824</td>\n",
       "      <td>-82.359193</td>\n",
       "      <td>-88.931458</td>\n",
       "      <td>-80.053375</td>\n",
       "      <td>-97.337545</td>\n",
       "      <td>-77.002767</td>\n",
       "      <td>-71.514784</td>\n",
       "      <td>-73.360398</td>\n",
       "      <td>-82.441159</td>\n",
       "      <td>-80.649519</td>\n",
       "    </tr>\n",
       "    <tr>\n",
       "      <th>cluster</th>\n",
       "      <td>-1.000000</td>\n",
       "      <td>0.000000</td>\n",
       "      <td>-1.000000</td>\n",
       "      <td>-1.000000</td>\n",
       "      <td>1.000000</td>\n",
       "      <td>2.000000</td>\n",
       "      <td>3.000000</td>\n",
       "      <td>-1.000000</td>\n",
       "      <td>2.000000</td>\n",
       "      <td>4.000000</td>\n",
       "      <td>...</td>\n",
       "      <td>17.000000</td>\n",
       "      <td>13.000000</td>\n",
       "      <td>-1.000000</td>\n",
       "      <td>24.000000</td>\n",
       "      <td>-1.000000</td>\n",
       "      <td>-1.000000</td>\n",
       "      <td>11.000000</td>\n",
       "      <td>12.000000</td>\n",
       "      <td>19.000000</td>\n",
       "      <td>17.000000</td>\n",
       "    </tr>\n",
       "  </tbody>\n",
       "</table>\n",
       "<p>3 rows × 222 columns</p>\n",
       "</div>"
      ],
      "text/plain": [
       "         Albion, MI  Albuquerque, NM  Amarillo, TX  Anchorage, AK  \\\n",
       "lat       42.243097        35.084103     35.207219      61.216313   \n",
       "long     -84.753030      -106.650985   -101.833825    -149.894852   \n",
       "cluster   -1.000000         0.000000     -1.000000      -1.000000   \n",
       "\n",
       "         Anderson County, TX  Anniston, AL  Arlington, VA  \\\n",
       "lat                31.781924     33.695381      38.890396   \n",
       "long              -95.625820    -85.839842     -77.084158   \n",
       "cluster             1.000000      2.000000       3.000000   \n",
       "\n",
       "         Aroostook County, ME  Atlanta, GA  Aurora, IL       ...        \\\n",
       "lat                 46.684796    33.749099   41.760585       ...         \n",
       "long               -68.470113   -84.390185  -88.320071       ...         \n",
       "cluster             -1.000000     2.000000    4.000000       ...         \n",
       "\n",
       "         Warrensville Heights, OH  Washington, D.C.  West Frankfort, IL  \\\n",
       "lat                     41.435350         36.298852           37.897827   \n",
       "long                   -81.514824        -82.359193          -88.931458   \n",
       "cluster                 17.000000         13.000000           -1.000000   \n",
       "\n",
       "         West Palm Beach, FL  Wichita, KS  Williamsport, PA  Woonsocket, RI  \\\n",
       "lat                26.715342    37.692236         41.249329       42.002876   \n",
       "long              -80.053375   -97.337545        -77.002767      -71.514784   \n",
       "cluster            24.000000    -1.000000         -1.000000       11.000000   \n",
       "\n",
       "         Wyandanch, NY  Ybor City, FL  Youngstown, OH  \n",
       "lat          40.753988      27.960048       41.099780  \n",
       "long        -73.360398     -82.441159      -80.649519  \n",
       "cluster      12.000000      19.000000       17.000000  \n",
       "\n",
       "[3 rows x 222 columns]"
      ]
     },
     "execution_count": 42,
     "metadata": {},
     "output_type": "execute_result"
    }
   ],
   "source": [
    "df.transpose()"
   ]
  },
  {
   "cell_type": "code",
   "execution_count": 43,
   "metadata": {
    "collapsed": false
   },
   "outputs": [],
   "source": [
    "df.to_dict(orient='index')\n",
    "import json\n",
    "with open('location_clustered.json', 'w') as fp:\n",
    "    json.dump(df.to_dict(orient='index'), fp)"
   ]
  },
  {
   "cell_type": "code",
   "execution_count": null,
   "metadata": {
    "collapsed": true
   },
   "outputs": [],
   "source": []
  }
 ],
 "metadata": {
  "kernelspec": {
   "display_name": "Python 3",
   "language": "python",
   "name": "python3"
  },
  "language_info": {
   "codemirror_mode": {
    "name": "ipython",
    "version": 3
   },
   "file_extension": ".py",
   "mimetype": "text/x-python",
   "name": "python",
   "nbconvert_exporter": "python",
   "pygments_lexer": "ipython3",
   "version": "3.5.1"
  }
 },
 "nbformat": 4,
 "nbformat_minor": 0
}
